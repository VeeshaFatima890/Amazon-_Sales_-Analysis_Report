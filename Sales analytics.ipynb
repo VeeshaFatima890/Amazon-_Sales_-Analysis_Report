{
 "cells": [
  {
   "cell_type": "code",
   "execution_count": 10,
   "id": "b881de60-2335-44bc-a6f2-0dd2731dcdb3",
   "metadata": {},
   "outputs": [
    {
     "name": "stdout",
     "output_type": "stream",
     "text": [
      "Connected to: DESKTOP-5L4E2G3\\SQLEXPRESS  DB: vendor_analytics\n"
     ]
    }
   ],
   "source": [
    "import os, re\n",
    "import pandas as pd\n",
    "from datetime import datetime\n",
    "from sqlalchemy import create_engine, text\n",
    "from dotenv import load_dotenv\n",
    "from tqdm import tqdm\n",
    "\n",
    "load_dotenv(dotenv_path=\"untitled.env\")\n",
    "\n",
    "SERVER   = os.getenv(\"MSSQL_SERVER\")\n",
    "DB       = os.getenv(\"MSSQL_DATABASE\")\n",
    "USER     = os.getenv(\"MSSQL_USERNAME\")\n",
    "PWD      = os.getenv(\"MSSQL_PASSWORD\")\n",
    "DRIVER   = os.getenv(\"MSSQL_DRIVER\", \"ODBC Driver 18 for SQL Server\")\n",
    "\n",
    "# SQLAlchemy connection string for SQL Server via ODBC 18\n",
    "engine = create_engine(\n",
    "    f\"mssql+pyodbc://{USER}:{PWD}@{SERVER}/{DB}\"\n",
    "    f\"?driver={DRIVER.replace(' ', '+')}&TrustServerCertificate=yes\"\n",
    ")\n",
    "# CSV paths (adjust to your file locations)\n",
    "SALES_CSV = r\"Amazon Sale Report.csv\"\n",
    "CLOUD_CSV = r\"Cloud Warehouse Compersion Chart.csv\"\n",
    "print(\"Connected to:\", SERVER, \" DB:\", DB)"
   ]
  },
  {
   "cell_type": "code",
   "execution_count": 12,
   "id": "d1bff78d-19d4-4101-bf39-2ce5ec119d8c",
   "metadata": {},
   "outputs": [
    {
     "name": "stdout",
     "output_type": "stream",
     "text": [
      "Sales CSV shape: (128975, 24)\n",
      "Cloud CSV shape: (50, 4)\n"
     ]
    },
    {
     "name": "stderr",
     "output_type": "stream",
     "text": [
      "C:\\Users\\hp\\AppData\\Local\\Temp\\ipykernel_7980\\1211912958.py:2: DtypeWarning: Columns (23) have mixed types. Specify dtype option on import or set low_memory=False.\n",
      "  df_sales = pd.read_csv(SALES_CSV)\n"
     ]
    }
   ],
   "source": [
    "# Load CSV files into DataFrames\n",
    "df_sales = pd.read_csv(SALES_CSV)\n",
    "df_cloud = pd.read_csv(CLOUD_CSV)\n",
    "\n",
    "print(\"Sales CSV shape:\", df_sales.shape)\n",
    "print(\"Cloud CSV shape:\", df_cloud.shape)"
   ]
  },
  {
   "cell_type": "code",
   "execution_count": 6,
   "id": "792e5af1-9e4a-4b05-ad98-3de5af99a73b",
   "metadata": {},
   "outputs": [],
   "source": [
    "def clean_columns(df):\n",
    "    df.columns = [re.sub(r'\\s+', '_', col.strip().lower()) for col in df.columns]\n",
    "    return df\n",
    "\n",
    "df_sales = clean_columns(df_sales)\n",
    "df_cloud = clean_columns(df_cloud)"
   ]
  },
  {
   "cell_type": "code",
   "execution_count": 13,
   "id": "e551b11c-20a0-4f27-b2c7-6dffec7441cb",
   "metadata": {},
   "outputs": [
    {
     "name": "stdout",
     "output_type": "stream",
     "text": [
      "Data ingestion completed successfully!\n"
     ]
    }
   ],
   "source": [
    "df_sales.to_sql(\"sales_data\", engine, if_exists=\"replace\", index=False)\n",
    "df_cloud.to_sql(\"cloud_comperison\", engine, if_exists=\"replace\", index=False)\n",
    "\n",
    "print(\"Data ingestion completed successfully!\")"
   ]
  },
  {
   "cell_type": "code",
   "execution_count": 8,
   "id": "f6b706e2-1956-4794-821e-8512d2e0f77a",
   "metadata": {},
   "outputs": [
    {
     "name": "stdout",
     "output_type": "stream",
     "text": [
      "Sales Data rows: 128975\n",
      "Cloud Comperison rows: 50\n"
     ]
    }
   ],
   "source": [
    "with engine.connect() as conn:\n",
    "    result = conn.execute(text(\"SELECT COUNT(*) FROM sales_data\"))\n",
    "    print(\"Sales Data rows:\", result.scalar())\n",
    "\n",
    "    result = conn.execute(text(\"SELECT COUNT(*) FROM cloud_comperison\"))\n",
    "    print(\"Cloud Comperison rows:\", result.scalar())"
   ]
  },
  {
   "cell_type": "code",
   "execution_count": 10,
   "id": "e737f4ee-6fa4-43a7-9856-0177557229e2",
   "metadata": {},
   "outputs": [
    {
     "name": "stdout",
     "output_type": "stream",
     "text": [
      "<class 'pandas.core.frame.DataFrame'>\n",
      "RangeIndex: 128975 entries, 0 to 128974\n",
      "Data columns (total 24 columns):\n",
      " #   Column              Non-Null Count   Dtype  \n",
      "---  ------              --------------   -----  \n",
      " 0   index               128975 non-null  int64  \n",
      " 1   order_id            128975 non-null  object \n",
      " 2   date                128975 non-null  object \n",
      " 3   status              128975 non-null  object \n",
      " 4   fulfilment          128975 non-null  object \n",
      " 5   sales_channel       128975 non-null  object \n",
      " 6   ship-service-level  128975 non-null  object \n",
      " 7   style               128975 non-null  object \n",
      " 8   sku                 128975 non-null  object \n",
      " 9   category            128975 non-null  object \n",
      " 10  size                128975 non-null  object \n",
      " 11  asin                128975 non-null  object \n",
      " 12  courier_status      122103 non-null  object \n",
      " 13  qty                 128975 non-null  int64  \n",
      " 14  currency            121180 non-null  object \n",
      " 15  amount              121180 non-null  float64\n",
      " 16  ship-city           128942 non-null  object \n",
      " 17  ship-state          128942 non-null  object \n",
      " 18  ship-postal-code    128942 non-null  float64\n",
      " 19  ship-country        128942 non-null  object \n",
      " 20  promotion-ids       79822 non-null   object \n",
      " 21  b2b                 128975 non-null  bool   \n",
      " 22  fulfilled-by        39277 non-null   object \n",
      " 23  unnamed:_22         79925 non-null   object \n",
      "dtypes: bool(1), float64(2), int64(2), object(19)\n",
      "memory usage: 22.8+ MB\n",
      "None\n",
      "index                     0\n",
      "order_id                  0\n",
      "date                      0\n",
      "status                    0\n",
      "fulfilment                0\n",
      "sales_channel             0\n",
      "ship-service-level        0\n",
      "style                     0\n",
      "sku                       0\n",
      "category                  0\n",
      "size                      0\n",
      "asin                      0\n",
      "courier_status         6872\n",
      "qty                       0\n",
      "currency               7795\n",
      "amount                 7795\n",
      "ship-city                33\n",
      "ship-state               33\n",
      "ship-postal-code         33\n",
      "ship-country             33\n",
      "promotion-ids         49153\n",
      "b2b                       0\n",
      "fulfilled-by          89698\n",
      "unnamed:_22           49050\n",
      "dtype: int64\n",
      "0\n"
     ]
    }
   ],
   "source": [
    "# Check data types, missing values, duplicates\n",
    "print(df_sales.info())\n",
    "print(df_sales.isnull().sum())\n",
    "print(df_sales.duplicated().sum())"
   ]
  },
  {
   "cell_type": "code",
   "execution_count": 11,
   "id": "3fb3fc95-81a9-4663-a5b9-c447c4aac56c",
   "metadata": {},
   "outputs": [
    {
     "name": "stdout",
     "output_type": "stream",
     "text": [
      "<class 'pandas.core.frame.DataFrame'>\n",
      "RangeIndex: 50 entries, 0 to 49\n",
      "Data columns (total 4 columns):\n",
      " #   Column      Non-Null Count  Dtype \n",
      "---  ------      --------------  ----- \n",
      " 0   index       50 non-null     int64 \n",
      " 1   shiprocket  21 non-null     object\n",
      " 2   unnamed:_1  41 non-null     object\n",
      " 3   increff     28 non-null     object\n",
      "dtypes: int64(1), object(3)\n",
      "memory usage: 1.7+ KB\n",
      "None\n",
      "index          0\n",
      "shiprocket    29\n",
      "unnamed:_1     9\n",
      "increff       22\n",
      "dtype: int64\n",
      "0\n"
     ]
    }
   ],
   "source": [
    "print(df_cloud.info())\n",
    "print(df_cloud.isnull().sum())\n",
    "print(df_cloud.duplicated().sum())"
   ]
  },
  {
   "cell_type": "code",
   "execution_count": 5,
   "id": "4e535b7a-b472-43e6-88d7-68026899e5cc",
   "metadata": {},
   "outputs": [
    {
     "name": "stdout",
     "output_type": "stream",
     "text": [
      "Sales Data cleaned successfully!\n",
      "--------------------------------------------\n",
      "Cloud Comperison Data cleaned successfully!\n"
     ]
    }
   ],
   "source": [
    "# -----------------------\n",
    "# CLEANING SALES DATA\n",
    "# -----------------------\n",
    "import numpy as np\n",
    "\n",
    "# Remove leading/trailing spaces for only string columns\n",
    "for col in df_sales.select_dtypes(include=[\"object\"]).columns:\n",
    "    df_sales[col] = df_sales[col].astype(str).str.strip()\n",
    "\n",
    "# Handle missing values\n",
    "df_sales = df_sales.replace([\"\", \" \", \"  \", \"   \", \"NA\", \"NaN\", \"nan\", \"N/A\", \"n/a\", \"NULL\", \"null\", \"None\", \"-\", \"--\"], np.nan)\n",
    "df_sales = df_sales.dropna(how=\"all\")  # drop rows completely empty\n",
    "\n",
    "# Convert date columns safely\n",
    "if \"order_date\" in df_sales.columns:\n",
    "    df_sales[\"order_date\"] = pd.to_datetime(df_sales[\"order_date\"], errors=\"coerce\")\n",
    "\n",
    "# Remove duplicates\n",
    "df_sales = df_sales.drop_duplicates()\n",
    "\n",
    "print(\"Sales Data cleaned successfully!\")\n",
    "\n",
    "print(\"--------------------------------------------\")\n",
    "# -----------------------\n",
    "# CLEANING CLOUD COMPARISON DATA\n",
    "# -----------------------\n",
    "for col in df_cloud.select_dtypes(include=[\"object\"]).columns:\n",
    "    df_cloud[col] = df_cloud[col].astype(str).str.strip()\n",
    "\n",
    "df_cloud = df_cloud.replace([\"\", \" \", \"  \", \"   \", \"NA\", \"NaN\", \"nan\", \"N/A\", \"n/a\", \"NULL\", \"null\", \"None\", \"-\", \"--\"], np.nan)\n",
    "df_cloud = df_cloud.dropna(how=\"all\")\n",
    "\n",
    "# Example: Convert numeric columns\n",
    "numeric_cols = [\"cost\", \"performance_score\", \"uptime_percentage\"]\n",
    "for col in numeric_cols:\n",
    "    if col in df_cloud.columns:\n",
    "        df_cloud[col] = pd.to_numeric(df_cloud[col], errors=\"coerce\")\n",
    "\n",
    "df_cloud = df_cloud.drop_duplicates()\n",
    "\n",
    "print(\"Cloud Comperison Data cleaned successfully!\")"
   ]
  },
  {
   "cell_type": "code",
   "execution_count": 7,
   "id": "2cb650b2-87eb-49ee-9774-46dd819d69c4",
   "metadata": {},
   "outputs": [
    {
     "name": "stdout",
     "output_type": "stream",
     "text": [
      "Cleaned data loaded into SQL Server successfully!\n"
     ]
    }
   ],
   "source": [
    "# Save cleaned data to SQL Server\n",
    "df_sales.to_sql(\"sales_data\", engine, if_exists=\"replace\", index=False)\n",
    "df_cloud.to_sql(\"cloud_comparison\", engine, if_exists=\"replace\", index=False)\n",
    "\n",
    "print(\"Cleaned data loaded into SQL Server successfully!\")"
   ]
  },
  {
   "cell_type": "code",
   "execution_count": 19,
   "id": "2ce1834e-5947-474d-8e0a-522a9c5aac6a",
   "metadata": {},
   "outputs": [
    {
     "data": {
      "text/html": [
       "<div>\n",
       "<style scoped>\n",
       "    .dataframe tbody tr th:only-of-type {\n",
       "        vertical-align: middle;\n",
       "    }\n",
       "\n",
       "    .dataframe tbody tr th {\n",
       "        vertical-align: top;\n",
       "    }\n",
       "\n",
       "    .dataframe thead th {\n",
       "        text-align: right;\n",
       "    }\n",
       "</style>\n",
       "<table border=\"1\" class=\"dataframe\">\n",
       "  <thead>\n",
       "    <tr style=\"text-align: right;\">\n",
       "      <th></th>\n",
       "      <th>index</th>\n",
       "      <th>Order ID</th>\n",
       "      <th>Date</th>\n",
       "      <th>Status</th>\n",
       "      <th>Fulfilment</th>\n",
       "      <th>Sales Channel</th>\n",
       "      <th>ship-service-level</th>\n",
       "      <th>Style</th>\n",
       "      <th>SKU</th>\n",
       "      <th>Category</th>\n",
       "      <th>...</th>\n",
       "      <th>currency</th>\n",
       "      <th>Amount</th>\n",
       "      <th>ship-city</th>\n",
       "      <th>ship-state</th>\n",
       "      <th>ship-postal-code</th>\n",
       "      <th>ship-country</th>\n",
       "      <th>promotion-ids</th>\n",
       "      <th>B2B</th>\n",
       "      <th>fulfilled-by</th>\n",
       "      <th>Unnamed: 22</th>\n",
       "    </tr>\n",
       "  </thead>\n",
       "  <tbody>\n",
       "    <tr>\n",
       "      <th>0</th>\n",
       "      <td>0</td>\n",
       "      <td>405-8078784-5731545</td>\n",
       "      <td>04-30-22</td>\n",
       "      <td>Cancelled</td>\n",
       "      <td>Merchant</td>\n",
       "      <td>Amazon.in</td>\n",
       "      <td>Standard</td>\n",
       "      <td>SET389</td>\n",
       "      <td>SET389-KR-NP-S</td>\n",
       "      <td>Set</td>\n",
       "      <td>...</td>\n",
       "      <td>INR</td>\n",
       "      <td>647.62</td>\n",
       "      <td>MUMBAI</td>\n",
       "      <td>MAHARASHTRA</td>\n",
       "      <td>400081.0</td>\n",
       "      <td>IN</td>\n",
       "      <td>NaN</td>\n",
       "      <td>False</td>\n",
       "      <td>Easy Ship</td>\n",
       "      <td>NaN</td>\n",
       "    </tr>\n",
       "    <tr>\n",
       "      <th>1</th>\n",
       "      <td>1</td>\n",
       "      <td>171-9198151-1101146</td>\n",
       "      <td>04-30-22</td>\n",
       "      <td>Shipped - Delivered to Buyer</td>\n",
       "      <td>Merchant</td>\n",
       "      <td>Amazon.in</td>\n",
       "      <td>Standard</td>\n",
       "      <td>JNE3781</td>\n",
       "      <td>JNE3781-KR-XXXL</td>\n",
       "      <td>kurta</td>\n",
       "      <td>...</td>\n",
       "      <td>INR</td>\n",
       "      <td>406.00</td>\n",
       "      <td>BENGALURU</td>\n",
       "      <td>KARNATAKA</td>\n",
       "      <td>560085.0</td>\n",
       "      <td>IN</td>\n",
       "      <td>Amazon PLCC Free-Financing Universal Merchant ...</td>\n",
       "      <td>False</td>\n",
       "      <td>Easy Ship</td>\n",
       "      <td>NaN</td>\n",
       "    </tr>\n",
       "    <tr>\n",
       "      <th>2</th>\n",
       "      <td>2</td>\n",
       "      <td>404-0687676-7273146</td>\n",
       "      <td>04-30-22</td>\n",
       "      <td>Shipped</td>\n",
       "      <td>Amazon</td>\n",
       "      <td>Amazon.in</td>\n",
       "      <td>Expedited</td>\n",
       "      <td>JNE3371</td>\n",
       "      <td>JNE3371-KR-XL</td>\n",
       "      <td>kurta</td>\n",
       "      <td>...</td>\n",
       "      <td>INR</td>\n",
       "      <td>329.00</td>\n",
       "      <td>NAVI MUMBAI</td>\n",
       "      <td>MAHARASHTRA</td>\n",
       "      <td>410210.0</td>\n",
       "      <td>IN</td>\n",
       "      <td>IN Core Free Shipping 2015/04/08 23-48-5-108</td>\n",
       "      <td>True</td>\n",
       "      <td>NaN</td>\n",
       "      <td>NaN</td>\n",
       "    </tr>\n",
       "    <tr>\n",
       "      <th>3</th>\n",
       "      <td>3</td>\n",
       "      <td>403-9615377-8133951</td>\n",
       "      <td>04-30-22</td>\n",
       "      <td>Cancelled</td>\n",
       "      <td>Merchant</td>\n",
       "      <td>Amazon.in</td>\n",
       "      <td>Standard</td>\n",
       "      <td>J0341</td>\n",
       "      <td>J0341-DR-L</td>\n",
       "      <td>Western Dress</td>\n",
       "      <td>...</td>\n",
       "      <td>INR</td>\n",
       "      <td>753.33</td>\n",
       "      <td>PUDUCHERRY</td>\n",
       "      <td>PUDUCHERRY</td>\n",
       "      <td>605008.0</td>\n",
       "      <td>IN</td>\n",
       "      <td>NaN</td>\n",
       "      <td>False</td>\n",
       "      <td>Easy Ship</td>\n",
       "      <td>NaN</td>\n",
       "    </tr>\n",
       "    <tr>\n",
       "      <th>4</th>\n",
       "      <td>4</td>\n",
       "      <td>407-1069790-7240320</td>\n",
       "      <td>04-30-22</td>\n",
       "      <td>Shipped</td>\n",
       "      <td>Amazon</td>\n",
       "      <td>Amazon.in</td>\n",
       "      <td>Expedited</td>\n",
       "      <td>JNE3671</td>\n",
       "      <td>JNE3671-TU-XXXL</td>\n",
       "      <td>Top</td>\n",
       "      <td>...</td>\n",
       "      <td>INR</td>\n",
       "      <td>574.00</td>\n",
       "      <td>CHENNAI</td>\n",
       "      <td>TAMIL NADU</td>\n",
       "      <td>600073.0</td>\n",
       "      <td>IN</td>\n",
       "      <td>NaN</td>\n",
       "      <td>False</td>\n",
       "      <td>NaN</td>\n",
       "      <td>NaN</td>\n",
       "    </tr>\n",
       "  </tbody>\n",
       "</table>\n",
       "<p>5 rows × 24 columns</p>\n",
       "</div>"
      ],
      "text/plain": [
       "   index             Order ID      Date                        Status  \\\n",
       "0      0  405-8078784-5731545  04-30-22                     Cancelled   \n",
       "1      1  171-9198151-1101146  04-30-22  Shipped - Delivered to Buyer   \n",
       "2      2  404-0687676-7273146  04-30-22                       Shipped   \n",
       "3      3  403-9615377-8133951  04-30-22                     Cancelled   \n",
       "4      4  407-1069790-7240320  04-30-22                       Shipped   \n",
       "\n",
       "  Fulfilment Sales Channel  ship-service-level    Style              SKU  \\\n",
       "0   Merchant      Amazon.in           Standard   SET389   SET389-KR-NP-S   \n",
       "1   Merchant      Amazon.in           Standard  JNE3781  JNE3781-KR-XXXL   \n",
       "2     Amazon      Amazon.in          Expedited  JNE3371    JNE3371-KR-XL   \n",
       "3   Merchant      Amazon.in           Standard    J0341       J0341-DR-L   \n",
       "4     Amazon      Amazon.in          Expedited  JNE3671  JNE3671-TU-XXXL   \n",
       "\n",
       "        Category  ... currency  Amount    ship-city   ship-state  \\\n",
       "0            Set  ...      INR  647.62       MUMBAI  MAHARASHTRA   \n",
       "1          kurta  ...      INR  406.00    BENGALURU    KARNATAKA   \n",
       "2          kurta  ...      INR  329.00  NAVI MUMBAI  MAHARASHTRA   \n",
       "3  Western Dress  ...      INR  753.33   PUDUCHERRY   PUDUCHERRY   \n",
       "4            Top  ...      INR  574.00      CHENNAI   TAMIL NADU   \n",
       "\n",
       "  ship-postal-code  ship-country  \\\n",
       "0         400081.0            IN   \n",
       "1         560085.0            IN   \n",
       "2         410210.0            IN   \n",
       "3         605008.0            IN   \n",
       "4         600073.0            IN   \n",
       "\n",
       "                                       promotion-ids    B2B  fulfilled-by  \\\n",
       "0                                                NaN  False     Easy Ship   \n",
       "1  Amazon PLCC Free-Financing Universal Merchant ...  False     Easy Ship   \n",
       "2       IN Core Free Shipping 2015/04/08 23-48-5-108   True           NaN   \n",
       "3                                                NaN  False     Easy Ship   \n",
       "4                                                NaN  False           NaN   \n",
       "\n",
       "  Unnamed: 22  \n",
       "0         NaN  \n",
       "1         NaN  \n",
       "2         NaN  \n",
       "3         NaN  \n",
       "4         NaN  \n",
       "\n",
       "[5 rows x 24 columns]"
      ]
     },
     "execution_count": 19,
     "metadata": {},
     "output_type": "execute_result"
    }
   ],
   "source": [
    "df_sales.head()"
   ]
  },
  {
   "cell_type": "code",
   "execution_count": 23,
   "id": "ee3ec03b-c7ea-4ce3-9228-ee01b45b1041",
   "metadata": {},
   "outputs": [
    {
     "data": {
      "text/html": [
       "<div>\n",
       "<style scoped>\n",
       "    .dataframe tbody tr th:only-of-type {\n",
       "        vertical-align: middle;\n",
       "    }\n",
       "\n",
       "    .dataframe tbody tr th {\n",
       "        vertical-align: top;\n",
       "    }\n",
       "\n",
       "    .dataframe thead th {\n",
       "        text-align: right;\n",
       "    }\n",
       "</style>\n",
       "<table border=\"1\" class=\"dataframe\">\n",
       "  <thead>\n",
       "    <tr style=\"text-align: right;\">\n",
       "      <th></th>\n",
       "      <th>index</th>\n",
       "      <th>Shiprocket</th>\n",
       "      <th>Unnamed: 1</th>\n",
       "      <th>INCREFF</th>\n",
       "    </tr>\n",
       "  </thead>\n",
       "  <tbody>\n",
       "    <tr>\n",
       "      <th>0</th>\n",
       "      <td>0</td>\n",
       "      <td>Heads</td>\n",
       "      <td>Price (Per Unit)</td>\n",
       "      <td>Price (Per Unit)</td>\n",
       "    </tr>\n",
       "    <tr>\n",
       "      <th>1</th>\n",
       "      <td>1</td>\n",
       "      <td>Inbound (Fresh Stock and RTO)</td>\n",
       "      <td>₹4.00</td>\n",
       "      <td>4</td>\n",
       "    </tr>\n",
       "    <tr>\n",
       "      <th>2</th>\n",
       "      <td>2</td>\n",
       "      <td>Outbound</td>\n",
       "      <td>₹7.00</td>\n",
       "      <td>11</td>\n",
       "    </tr>\n",
       "    <tr>\n",
       "      <th>3</th>\n",
       "      <td>3</td>\n",
       "      <td>Storage Fee/Cft</td>\n",
       "      <td>₹25.00</td>\n",
       "      <td>Rs 0.15/- Per Day</td>\n",
       "    </tr>\n",
       "    <tr>\n",
       "      <th>4</th>\n",
       "      <td>4</td>\n",
       "      <td>Customer Return with Detailed QC</td>\n",
       "      <td>₹6.00</td>\n",
       "      <td>15.5</td>\n",
       "    </tr>\n",
       "  </tbody>\n",
       "</table>\n",
       "</div>"
      ],
      "text/plain": [
       "   index                        Shiprocket        Unnamed: 1  \\\n",
       "0      0                             Heads  Price (Per Unit)   \n",
       "1      1     Inbound (Fresh Stock and RTO)             ₹4.00   \n",
       "2      2                          Outbound             ₹7.00   \n",
       "3      3                   Storage Fee/Cft            ₹25.00   \n",
       "4      4  Customer Return with Detailed QC             ₹6.00   \n",
       "\n",
       "             INCREFF  \n",
       "0   Price (Per Unit)  \n",
       "1                  4  \n",
       "2                 11  \n",
       "3  Rs 0.15/- Per Day  \n",
       "4               15.5  "
      ]
     },
     "execution_count": 23,
     "metadata": {},
     "output_type": "execute_result"
    }
   ],
   "source": [
    "df_cloud.head()"
   ]
  },
  {
   "cell_type": "code",
   "execution_count": 25,
   "id": "aa3258f5-963d-485d-82d9-ab926e89d136",
   "metadata": {},
   "outputs": [
    {
     "data": {
      "text/plain": [
       "Category\n",
       "Set              39204124.03\n",
       "kurta            21299546.70\n",
       "Western Dress    11216072.69\n",
       "Top               5347792.30\n",
       "Ethnic Dress       791217.66\n",
       "Blouse             458408.18\n",
       "Bottom             150667.98\n",
       "Saree              123933.76\n",
       "Dupatta               915.00\n",
       "Name: Amount, dtype: float64"
      ]
     },
     "execution_count": 25,
     "metadata": {},
     "output_type": "execute_result"
    }
   ],
   "source": [
    "#1. Amazon Sales Dataset — Possible Research Questions & Solutions\n",
    "#Q1: Which product categories generate the highest total sales?\n",
    "\n",
    "df_sales.groupby(\"Category\")[\"Amount\"].sum().sort_values(ascending=False)"
   ]
  },
  {
   "cell_type": "code",
   "execution_count": 43,
   "id": "31ef3e0c-60cc-49cc-aa95-2895c81b4892",
   "metadata": {},
   "outputs": [
    {
     "data": {
      "text/plain": [
       "Date\n",
       "2022-04    28838708.32\n",
       "2022-05    26226476.75\n",
       "2022-06    23425809.38\n",
       "2022-03      101683.85\n",
       "Freq: M, Name: Amount, dtype: float64"
      ]
     },
     "execution_count": 43,
     "metadata": {},
     "output_type": "execute_result"
    }
   ],
   "source": [
    "#Q2: Which month has the highest sales volume?\n",
    "df_sales[\"Date\"] = pd.to_datetime(df_sales[\"Date\"])\n",
    "df_sales.groupby(df_sales[\"Date\"].dt.to_period(\"M\"))[\"Amount\"].sum().sort_values(ascending=False)"
   ]
  },
  {
   "cell_type": "code",
   "execution_count": 35,
   "id": "931a26b4-a750-4eb4-86fa-4372ba1ab61b",
   "metadata": {},
   "outputs": [
    {
     "name": "stdout",
     "output_type": "stream",
     "text": [
      "      ship-city      Amount\n",
      "776   BENGALURU  6849664.99\n",
      "2906  HYDERABAD  4946032.82\n",
      "4795     MUMBAI  3704461.80\n",
      "5393  NEW DELHI  3613874.78\n",
      "1466    CHENNAI  3098745.74\n",
      "6158       PUNE  2338518.18\n",
      "3712    KOLKATA  1414978.87\n",
      "2620   GURUGRAM  1221618.74\n",
      "7587      THANE  1004355.29\n",
      "4397    LUCKNOW   933926.34\n"
     ]
    }
   ],
   "source": [
    "#Q Which cities contribute the most to sales?\n",
    "city_sales = df_sales.groupby(\"ship-city\")[\"Amount\"].sum().reset_index()\n",
    "# Sort in descending order\n",
    "city_sales = city_sales.sort_values(by=\"Amount\", ascending=False)\n",
    "print(city_sales.head(10))"
   ]
  },
  {
   "cell_type": "code",
   "execution_count": 47,
   "id": "04261a8b-688f-4546-ad64-1101cc47a999",
   "metadata": {},
   "outputs": [
    {
     "data": {
      "image/png": "[encoded data removed]",
      "text/plain": [
       "<Figure size 1000x600 with 1 Axes>"
      ]
     },
     "metadata": {},
     "output_type": "display_data"
    }
   ],
   "source": [
    "import matplotlib.pyplot as plt\n",
    "\n",
    "top_cities = city_sales.head(10)\n",
    "\n",
    "plt.figure(figsize=(10,6))\n",
    "plt.bar(top_cities[\"ship-city\"], top_cities[\"Amount\"])\n",
    "plt.title(\"Top 10 Cities by Sales\")\n",
    "plt.xlabel(\"City\")\n",
    "plt.ylabel(\"Total Sales\")\n",
    "plt.xticks(rotation=45)\n",
    "plt.show()"
   ]
  },
  {
   "cell_type": "code",
   "execution_count": 14,
   "id": "27d19b00-a3ed-44a6-908c-d6a26fa39ec9",
   "metadata": {},
   "outputs": [
    {
     "name": "stderr",
     "output_type": "stream",
     "text": [
      "C:\\Users\\hp\\AppData\\Local\\Temp\\ipykernel_7980\\3615129292.py:5: UserWarning: Could not infer format, so each element will be parsed individually, falling back to `dateutil`. To ensure parsing is consistent and as-expected, please specify a format.\n",
      "  df_sales[\"Date\"] = pd.to_datetime(df_sales[\"Date\"])\n"
     ]
    },
    {
     "data": {
      "image/png": "[encoded data removed]",
      "text/plain": [
       "<Figure size 1000x500 with 1 Axes>"
      ]
     },
     "metadata": {},
     "output_type": "display_data"
    }
   ],
   "source": [
    "import pandas as pd\n",
    "import matplotlib.pyplot as plt\n",
    "\n",
    "# Ensure Date is datetime\n",
    "df_sales[\"Date\"] = pd.to_datetime(df_sales[\"Date\"])\n",
    "\n",
    "# Group by month\n",
    "monthly_sales = df_sales.groupby(df_sales[\"Date\"].dt.to_period(\"M\"))[\"Amount\"].sum()\n",
    "monthly_sales.index = monthly_sales.index.astype(str)\n",
    "# Plot\n",
    "plt.figure(figsize=(10,5))\n",
    "monthly_sales.plot(kind=\"bar\", color=\"orange\")\n",
    "plt.title(\"Monthly Sales Volume\")\n",
    "plt.ylabel(\"Total Sales Amount\")\n",
    "plt.xlabel(\"Month\")\n",
    "plt.xticks(rotation=45)\n",
    "plt.tight_layout()\n",
    "plt.show()"
   ]
  },
  {
   "cell_type": "code",
   "execution_count": 20,
   "id": "7198eb07-e91c-46f8-841c-38501eb2c816",
   "metadata": {},
   "outputs": [
    {
     "data": {
      "image/png": "[encoded data removed]",
      "text/plain": [
       "<Figure size 800x500 with 1 Axes>"
      ]
     },
     "metadata": {},
     "output_type": "display_data"
    }
   ],
   "source": [
    "import pandas as pd\n",
    "import matplotlib.pyplot as plt\n",
    "\n",
    "df = df_sales\n",
    "\n",
    "# Group by category\n",
    "category_sales = df.groupby(\"Category\")[\"Amount\"].sum().sort_values(ascending=False)\n",
    "\n",
    "# Plot\n",
    "plt.figure(figsize=(8,5))\n",
    "category_sales.plot(kind=\"bar\", color=\"skyblue\")\n",
    "plt.title(\"Total Sales by Product Category\")\n",
    "plt.ylabel(\"Total Sales\")\n",
    "plt.xlabel(\"Category\")\n",
    "plt.xticks(rotation=45)\n",
    "plt.show()"
   ]
  },
  {
   "cell_type": "code",
   "execution_count": null,
   "id": "8c55be09-b3b7-4755-904a-359e8de1e1e8",
   "metadata": {},
   "outputs": [],
   "source": []
  }
 ],
 "metadata": {
  "kernelspec": {
   "display_name": "Python 3 (ipykernel)",
   "language": "python",
   "name": "python3"
  },
  "language_info": {
   "codemirror_mode": {
    "name": "ipython",
    "version": 3
   },
   "file_extension": ".py",
   "mimetype": "text/x-python",
   "name": "python",
   "nbconvert_exporter": "python",
   "pygments_lexer": "ipython3",
   "version": "3.12.3"
  }
 },
 "nbformat": 4,
 "nbformat_minor": 5
}
